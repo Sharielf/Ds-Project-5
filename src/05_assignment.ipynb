{
  "cells": [
    {
      "attachments": {},
      "cell_type": "markdown",
      "metadata": {
        "id": "YgyXIbKSjZqm"
      },
      "source": [
        "# Задание"
      ]
    },
    {
      "attachments": {},
      "cell_type": "markdown",
      "metadata": {
        "id": "Sp3f5FOojZqs"
      },
      "source": [
        "Данные по клиентам заархивированы в формате zip - сразу их разархивируем. Для этого нам понадобится библиотека zipfile."
      ]
    },
    {
      "cell_type": "code",
      "execution_count": 1,
      "metadata": {
        "colab": {
          "base_uri": "https://localhost:8080/"
        },
        "id": "IaYl6exWjZqt",
        "outputId": "05b22e17-4d7b-4ba1-bf99-16e254bbfe84"
      },
      "outputs": [],
      "source": [
        "#from google.colab import drive\n",
        "#drive.mount('/content/drive/')"
      ]
    },
    {
      "cell_type": "code",
      "execution_count": 2,
      "metadata": {
        "id": "1E-E5s6xn4M9"
      },
      "outputs": [],
      "source": [
        "import zipfile\n",
        "import pandas as pd\n",
        "import numpy as np\n",
        "from sklearn.preprocessing import StandardScaler\n",
        "from sklearn.model_selection import train_test_split \n",
        "from sklearn.preprocessing import OneHotEncoder\n",
        "import matplotlib.pyplot as plt"
      ]
    },
    {
      "cell_type": "code",
      "execution_count": 3,
      "metadata": {
        "id": "B4AGznNDjZqv"
      },
      "outputs": [],
      "source": [
        "with zipfile.ZipFile('../datasets/client_info.csv.zip', 'r') as zip_ref:\n",
        "    zip_ref.extractall('../datasets/')"
      ]
    },
    {
      "cell_type": "code",
      "execution_count": 4,
      "metadata": {
        "id": "dxhM1MLjPc31"
      },
      "outputs": [],
      "source": [
        "df = pd.read_csv('../datasets/client_info.csv')"
      ]
    },
    {
      "cell_type": "code",
      "execution_count": 5,
      "metadata": {
        "colab": {
          "base_uri": "https://localhost:8080/",
          "height": 299
        },
        "id": "8ZV2pPlOjZqv",
        "outputId": "b9b0d39a-5c0a-4e96-b09a-fd09540ac3f8",
        "scrolled": false
      },
      "outputs": [
        {
          "data": {
            "text/html": [
              "<div>\n",
              "<style scoped>\n",
              "    .dataframe tbody tr th:only-of-type {\n",
              "        vertical-align: middle;\n",
              "    }\n",
              "\n",
              "    .dataframe tbody tr th {\n",
              "        vertical-align: top;\n",
              "    }\n",
              "\n",
              "    .dataframe thead th {\n",
              "        text-align: right;\n",
              "    }\n",
              "</style>\n",
              "<table border=\"1\" class=\"dataframe\">\n",
              "  <thead>\n",
              "    <tr style=\"text-align: right;\">\n",
              "      <th></th>\n",
              "      <th>ID</th>\n",
              "      <th>CR_PROD_CNT_IL</th>\n",
              "      <th>AMOUNT_RUB_CLO_PRC</th>\n",
              "      <th>APP_REGISTR_RGN_CODE</th>\n",
              "      <th>TURNOVER_DYNAMIC_IL_1M</th>\n",
              "      <th>LDEAL_YQZ_COM_GROUP</th>\n",
              "      <th>LDEAL_YQZ_CHRG_GROUP</th>\n",
              "      <th>AVG_PCT_MONTH_TO_PCLOSE_GROUP</th>\n",
              "      <th>MAX_PCLOSE_DATE_GROUP</th>\n",
              "      <th>AVG_PCT_DEBT_TO_DEAL_AMT_GROUP</th>\n",
              "      <th>...</th>\n",
              "      <th>CLNT_SETUP_TENOR</th>\n",
              "      <th>TURNOVER_DYNAMIC_PAYM_3M</th>\n",
              "      <th>TURNOVER_DYNAMIC_PAYM_1M</th>\n",
              "      <th>TRANS_AMOUNT_TENDENCY3M</th>\n",
              "      <th>TRANS_CNT_TENDENCY3M</th>\n",
              "      <th>REST_DYNAMIC_CC_1M</th>\n",
              "      <th>TURNOVER_DYNAMIC_CC_1M</th>\n",
              "      <th>REST_DYNAMIC_CC_3M</th>\n",
              "      <th>TURNOVER_DYNAMIC_CC_3M</th>\n",
              "      <th>TARGET</th>\n",
              "    </tr>\n",
              "  </thead>\n",
              "  <tbody>\n",
              "    <tr>\n",
              "      <th>0</th>\n",
              "      <td>146841</td>\n",
              "      <td>0</td>\n",
              "      <td>0.000000</td>\n",
              "      <td>неизвестна</td>\n",
              "      <td>0.0</td>\n",
              "      <td>неизвестна</td>\n",
              "      <td>неизвестна</td>\n",
              "      <td>неизвестна</td>\n",
              "      <td>неизвестна</td>\n",
              "      <td>неизвестна</td>\n",
              "      <td>...</td>\n",
              "      <td>1.593023</td>\n",
              "      <td>0.0</td>\n",
              "      <td>0.0</td>\n",
              "      <td>0.483032</td>\n",
              "      <td>0.406780</td>\n",
              "      <td>0.0</td>\n",
              "      <td>0.0</td>\n",
              "      <td>0.0</td>\n",
              "      <td>0.0</td>\n",
              "      <td>0</td>\n",
              "    </tr>\n",
              "    <tr>\n",
              "      <th>1</th>\n",
              "      <td>146842</td>\n",
              "      <td>0</td>\n",
              "      <td>0.041033</td>\n",
              "      <td>неизвестна</td>\n",
              "      <td>0.0</td>\n",
              "      <td>неизвестна</td>\n",
              "      <td>неизвестна</td>\n",
              "      <td>неизвестна</td>\n",
              "      <td>неизвестна</td>\n",
              "      <td>неизвестна</td>\n",
              "      <td>...</td>\n",
              "      <td>1.587647</td>\n",
              "      <td>0.0</td>\n",
              "      <td>0.0</td>\n",
              "      <td>0.394340</td>\n",
              "      <td>0.545455</td>\n",
              "      <td>0.0</td>\n",
              "      <td>0.0</td>\n",
              "      <td>0.0</td>\n",
              "      <td>0.0</td>\n",
              "      <td>0</td>\n",
              "    </tr>\n",
              "    <tr>\n",
              "      <th>2</th>\n",
              "      <td>146843</td>\n",
              "      <td>0</td>\n",
              "      <td>0.006915</td>\n",
              "      <td>неизвестна</td>\n",
              "      <td>0.0</td>\n",
              "      <td>неизвестна</td>\n",
              "      <td>неизвестна</td>\n",
              "      <td>неизвестна</td>\n",
              "      <td>неизвестна</td>\n",
              "      <td>неизвестна</td>\n",
              "      <td>...</td>\n",
              "      <td>1.587647</td>\n",
              "      <td>0.0</td>\n",
              "      <td>0.0</td>\n",
              "      <td>0.399342</td>\n",
              "      <td>0.297297</td>\n",
              "      <td>0.0</td>\n",
              "      <td>0.0</td>\n",
              "      <td>0.0</td>\n",
              "      <td>0.0</td>\n",
              "      <td>0</td>\n",
              "    </tr>\n",
              "    <tr>\n",
              "      <th>3</th>\n",
              "      <td>146844</td>\n",
              "      <td>0</td>\n",
              "      <td>0.000000</td>\n",
              "      <td>неизвестна</td>\n",
              "      <td>0.0</td>\n",
              "      <td>неизвестна</td>\n",
              "      <td>неизвестна</td>\n",
              "      <td>неизвестна</td>\n",
              "      <td>неизвестна</td>\n",
              "      <td>неизвестна</td>\n",
              "      <td>...</td>\n",
              "      <td>1.583333</td>\n",
              "      <td>0.0</td>\n",
              "      <td>0.0</td>\n",
              "      <td>0.552169</td>\n",
              "      <td>0.558824</td>\n",
              "      <td>0.0</td>\n",
              "      <td>0.0</td>\n",
              "      <td>0.0</td>\n",
              "      <td>0.0</td>\n",
              "      <td>0</td>\n",
              "    </tr>\n",
              "    <tr>\n",
              "      <th>4</th>\n",
              "      <td>146845</td>\n",
              "      <td>0</td>\n",
              "      <td>0.000000</td>\n",
              "      <td>неизвестна</td>\n",
              "      <td>0.0</td>\n",
              "      <td>неизвестна</td>\n",
              "      <td>неизвестна</td>\n",
              "      <td>неизвестна</td>\n",
              "      <td>неизвестна</td>\n",
              "      <td>неизвестна</td>\n",
              "      <td>...</td>\n",
              "      <td>1.583333</td>\n",
              "      <td>0.0</td>\n",
              "      <td>0.0</td>\n",
              "      <td>0.611610</td>\n",
              "      <td>0.620690</td>\n",
              "      <td>0.0</td>\n",
              "      <td>0.0</td>\n",
              "      <td>0.0</td>\n",
              "      <td>0.0</td>\n",
              "      <td>0</td>\n",
              "    </tr>\n",
              "  </tbody>\n",
              "</table>\n",
              "<p>5 rows × 105 columns</p>\n",
              "</div>"
            ],
            "text/plain": [
              "       ID  CR_PROD_CNT_IL  AMOUNT_RUB_CLO_PRC APP_REGISTR_RGN_CODE  \\\n",
              "0  146841               0            0.000000           неизвестна   \n",
              "1  146842               0            0.041033           неизвестна   \n",
              "2  146843               0            0.006915           неизвестна   \n",
              "3  146844               0            0.000000           неизвестна   \n",
              "4  146845               0            0.000000           неизвестна   \n",
              "\n",
              "   TURNOVER_DYNAMIC_IL_1M LDEAL_YQZ_COM_GROUP LDEAL_YQZ_CHRG_GROUP  \\\n",
              "0                     0.0          неизвестна           неизвестна   \n",
              "1                     0.0          неизвестна           неизвестна   \n",
              "2                     0.0          неизвестна           неизвестна   \n",
              "3                     0.0          неизвестна           неизвестна   \n",
              "4                     0.0          неизвестна           неизвестна   \n",
              "\n",
              "  AVG_PCT_MONTH_TO_PCLOSE_GROUP MAX_PCLOSE_DATE_GROUP  \\\n",
              "0                    неизвестна            неизвестна   \n",
              "1                    неизвестна            неизвестна   \n",
              "2                    неизвестна            неизвестна   \n",
              "3                    неизвестна            неизвестна   \n",
              "4                    неизвестна            неизвестна   \n",
              "\n",
              "  AVG_PCT_DEBT_TO_DEAL_AMT_GROUP  ... CLNT_SETUP_TENOR  \\\n",
              "0                     неизвестна  ...         1.593023   \n",
              "1                     неизвестна  ...         1.587647   \n",
              "2                     неизвестна  ...         1.587647   \n",
              "3                     неизвестна  ...         1.583333   \n",
              "4                     неизвестна  ...         1.583333   \n",
              "\n",
              "  TURNOVER_DYNAMIC_PAYM_3M TURNOVER_DYNAMIC_PAYM_1M TRANS_AMOUNT_TENDENCY3M  \\\n",
              "0                      0.0                      0.0                0.483032   \n",
              "1                      0.0                      0.0                0.394340   \n",
              "2                      0.0                      0.0                0.399342   \n",
              "3                      0.0                      0.0                0.552169   \n",
              "4                      0.0                      0.0                0.611610   \n",
              "\n",
              "  TRANS_CNT_TENDENCY3M REST_DYNAMIC_CC_1M TURNOVER_DYNAMIC_CC_1M  \\\n",
              "0             0.406780                0.0                    0.0   \n",
              "1             0.545455                0.0                    0.0   \n",
              "2             0.297297                0.0                    0.0   \n",
              "3             0.558824                0.0                    0.0   \n",
              "4             0.620690                0.0                    0.0   \n",
              "\n",
              "  REST_DYNAMIC_CC_3M TURNOVER_DYNAMIC_CC_3M TARGET  \n",
              "0                0.0                    0.0      0  \n",
              "1                0.0                    0.0      0  \n",
              "2                0.0                    0.0      0  \n",
              "3                0.0                    0.0      0  \n",
              "4                0.0                    0.0      0  \n",
              "\n",
              "[5 rows x 105 columns]"
            ]
          },
          "execution_count": 5,
          "metadata": {},
          "output_type": "execute_result"
        }
      ],
      "source": [
        "df.head(5)"
      ]
    },
    {
      "attachments": {},
      "cell_type": "markdown",
      "metadata": {
        "id": "olsdu2vSjZqw"
      },
      "source": [
        "## Задание 1\n",
        "Назначь колонку `ID` индексом таблицы."
      ]
    },
    {
      "cell_type": "code",
      "execution_count": 6,
      "metadata": {
        "id": "Wgs93dFpjZqx"
      },
      "outputs": [],
      "source": [
        "df = df.set_index('ID')"
      ]
    },
    {
      "attachments": {},
      "cell_type": "markdown",
      "metadata": {
        "id": "p5D85V19jZqx"
      },
      "source": [
        "## Задание 2\n",
        "Определимся, что является нашим `X`, а что является нашим `Y`. \n",
        "Для этого изучи документ, описывающий [датасет](../datasets/data_description.docs).\n",
        "Признаки сохрани в переменную `X`. А целевую переменную, которую мы будем предсказывать, в переменную `Y`\n",
        "Выведи размерность этих таблиц"
      ]
    },
    {
      "cell_type": "code",
      "execution_count": 7,
      "metadata": {
        "colab": {
          "base_uri": "https://localhost:8080/"
        },
        "id": "hpsacFd2jZqx",
        "outputId": "ad9dc1eb-8072-4bca-cf63-8e2a4250edfc"
      },
      "outputs": [
        {
          "name": "stdout",
          "output_type": "stream",
          "text": [
            "(355190, 103)\n",
            "(355190,)\n"
          ]
        }
      ],
      "source": [
        "X = df.drop(\"TARGET\", axis=1) # подсчет \n",
        "Y = df[\"TARGET\"] # подсчет \n",
        "\n",
        "print(X.shape) # вывод  \n",
        "print(Y.shape) # вывод"
      ]
    },
    {
      "attachments": {},
      "cell_type": "markdown",
      "metadata": {
        "id": "mJQcWhCKjZqy"
      },
      "source": [
        "## Задание 3\n",
        "Наши признаки содержат в себе как количественные, так и категориальные переменные. Разделим признаки. \n",
        "В этом поможет тип данных колонки. Категориальные переменные сохрани в переменную `X_cat`, а количественные в `X_num`. \n",
        "Выведи число категориальных и количественные переменных."
      ]
    },
    {
      "cell_type": "code",
      "execution_count": 8,
      "metadata": {
        "colab": {
          "base_uri": "https://localhost:8080/"
        },
        "id": "pZt6taoPjZqy",
        "outputId": "8136d364-068c-42fb-a46b-1a9a3a5fb4ca"
      },
      "outputs": [
        {
          "name": "stdout",
          "output_type": "stream",
          "text": [
            "Количество категориальных переменных: 56\n",
            "Количество количественных переменных: 47\n"
          ]
        }
      ],
      "source": [
        "X_cat = X.select_dtypes(include=['object'])\n",
        "X_num = X.select_dtypes(exclude=['object'])\n",
        "print(f\"Количество категориальных переменных: {X_cat.shape[1]}\")\n",
        "print(f\"Количество количественных переменных: {X_num.shape[1]}\")"
      ]
    },
    {
      "attachments": {},
      "cell_type": "markdown",
      "metadata": {
        "id": "haEwe-V2jZqy"
      },
      "source": [
        "## Задание 4\n",
        "Предобработаем количественные переменные. Проведи стандартизацию для признаков X_num.\n",
        "Сохрани результат стандартизации в переменную `X_num_scal`. \n",
        "Выведи среднее и стандартное отклонение по датасету для каждого признака после стандартизации. \n",
        "Значения округли для сотых."
      ]
    },
    {
      "cell_type": "code",
      "execution_count": 9,
      "metadata": {
        "colab": {
          "base_uri": "https://localhost:8080/"
        },
        "id": "0NTUODYgjZqy",
        "outputId": "939bc160-08c9-4f15-c6e5-5554180a9026"
      },
      "outputs": [
        {
          "name": "stdout",
          "output_type": "stream",
          "text": [
            "Среднее значение для каждого признака:\n",
            "CR_PROD_CNT_IL              0.0\n",
            "AMOUNT_RUB_CLO_PRC          0.0\n",
            "TURNOVER_DYNAMIC_IL_1M     -0.0\n",
            "AMOUNT_RUB_SUP_PRC          0.0\n",
            "REST_DYNAMIC_FDEP_1M        0.0\n",
            "REST_DYNAMIC_SAVE_3M       -0.0\n",
            "CR_PROD_CNT_VCU            -0.0\n",
            "REST_AVG_CUR               -0.0\n",
            "AMOUNT_RUB_NAS_PRC          0.0\n",
            "TRANS_COUNT_SUP_PRC        -0.0\n",
            "TRANS_COUNT_NAS_PRC         0.0\n",
            "CR_PROD_CNT_TOVR           -0.0\n",
            "CR_PROD_CNT_PIL            -0.0\n",
            "TURNOVER_CC                 0.0\n",
            "TRANS_COUNT_ATM_PRC         0.0\n",
            "AMOUNT_RUB_ATM_PRC          0.0\n",
            "TURNOVER_PAYM              -0.0\n",
            "AGE                         0.0\n",
            "CR_PROD_CNT_CC              0.0\n",
            "REST_DYNAMIC_FDEP_3M       -0.0\n",
            "REST_DYNAMIC_IL_1M          0.0\n",
            "CR_PROD_CNT_CCFP            0.0\n",
            "REST_DYNAMIC_CUR_1M        -0.0\n",
            "REST_AVG_PAYM              -0.0\n",
            "LDEAL_GRACE_DAYS_PCT_MED   -0.0\n",
            "REST_DYNAMIC_CUR_3M         0.0\n",
            "CNT_TRAN_SUP_TENDENCY3M     0.0\n",
            "TURNOVER_DYNAMIC_CUR_1M    -0.0\n",
            "REST_DYNAMIC_PAYM_3M        0.0\n",
            "SUM_TRAN_SUP_TENDENCY3M     0.0\n",
            "REST_DYNAMIC_IL_3M          0.0\n",
            "CNT_TRAN_ATM_TENDENCY3M     0.0\n",
            "CNT_TRAN_ATM_TENDENCY1M    -0.0\n",
            "TURNOVER_DYNAMIC_IL_3M     -0.0\n",
            "SUM_TRAN_ATM_TENDENCY3M    -0.0\n",
            "SUM_TRAN_ATM_TENDENCY1M    -0.0\n",
            "REST_DYNAMIC_PAYM_1M       -0.0\n",
            "TURNOVER_DYNAMIC_CUR_3M    -0.0\n",
            "CLNT_SETUP_TENOR           -0.0\n",
            "TURNOVER_DYNAMIC_PAYM_3M   -0.0\n",
            "TURNOVER_DYNAMIC_PAYM_1M   -0.0\n",
            "TRANS_AMOUNT_TENDENCY3M    -0.0\n",
            "TRANS_CNT_TENDENCY3M       -0.0\n",
            "REST_DYNAMIC_CC_1M         -0.0\n",
            "TURNOVER_DYNAMIC_CC_1M     -0.0\n",
            "REST_DYNAMIC_CC_3M          0.0\n",
            "TURNOVER_DYNAMIC_CC_3M      0.0\n",
            "dtype: float64\n",
            "\n",
            "Стандартное отклонение для каждого признака:\n",
            "CR_PROD_CNT_IL              1.0\n",
            "AMOUNT_RUB_CLO_PRC          1.0\n",
            "TURNOVER_DYNAMIC_IL_1M      1.0\n",
            "AMOUNT_RUB_SUP_PRC          1.0\n",
            "REST_DYNAMIC_FDEP_1M        1.0\n",
            "REST_DYNAMIC_SAVE_3M        1.0\n",
            "CR_PROD_CNT_VCU             1.0\n",
            "REST_AVG_CUR                1.0\n",
            "AMOUNT_RUB_NAS_PRC          1.0\n",
            "TRANS_COUNT_SUP_PRC         1.0\n",
            "TRANS_COUNT_NAS_PRC         1.0\n",
            "CR_PROD_CNT_TOVR            1.0\n",
            "CR_PROD_CNT_PIL             1.0\n",
            "TURNOVER_CC                 1.0\n",
            "TRANS_COUNT_ATM_PRC         1.0\n",
            "AMOUNT_RUB_ATM_PRC          1.0\n",
            "TURNOVER_PAYM               1.0\n",
            "AGE                         1.0\n",
            "CR_PROD_CNT_CC              1.0\n",
            "REST_DYNAMIC_FDEP_3M        1.0\n",
            "REST_DYNAMIC_IL_1M          1.0\n",
            "CR_PROD_CNT_CCFP            1.0\n",
            "REST_DYNAMIC_CUR_1M         1.0\n",
            "REST_AVG_PAYM               1.0\n",
            "LDEAL_GRACE_DAYS_PCT_MED    1.0\n",
            "REST_DYNAMIC_CUR_3M         1.0\n",
            "CNT_TRAN_SUP_TENDENCY3M     1.0\n",
            "TURNOVER_DYNAMIC_CUR_1M     1.0\n",
            "REST_DYNAMIC_PAYM_3M        1.0\n",
            "SUM_TRAN_SUP_TENDENCY3M     1.0\n",
            "REST_DYNAMIC_IL_3M          1.0\n",
            "CNT_TRAN_ATM_TENDENCY3M     1.0\n",
            "CNT_TRAN_ATM_TENDENCY1M     1.0\n",
            "TURNOVER_DYNAMIC_IL_3M      1.0\n",
            "SUM_TRAN_ATM_TENDENCY3M     1.0\n",
            "SUM_TRAN_ATM_TENDENCY1M     1.0\n",
            "REST_DYNAMIC_PAYM_1M        1.0\n",
            "TURNOVER_DYNAMIC_CUR_3M     1.0\n",
            "CLNT_SETUP_TENOR            1.0\n",
            "TURNOVER_DYNAMIC_PAYM_3M    1.0\n",
            "TURNOVER_DYNAMIC_PAYM_1M    1.0\n",
            "TRANS_AMOUNT_TENDENCY3M     1.0\n",
            "TRANS_CNT_TENDENCY3M        1.0\n",
            "REST_DYNAMIC_CC_1M          1.0\n",
            "TURNOVER_DYNAMIC_CC_1M      1.0\n",
            "REST_DYNAMIC_CC_3M          1.0\n",
            "TURNOVER_DYNAMIC_CC_3M      1.0\n",
            "dtype: float64\n"
          ]
        }
      ],
      "source": [
        "scaler = StandardScaler()\n",
        "X_num_scal = pd.DataFrame(scaler.fit_transform(X_num), columns=X_num.columns)\n",
        "print(\"Среднее значение для каждого признака:\")\n",
        "print(np.round(X_num_scal.mean(), 2))\n",
        "print(\"\\nСтандартное отклонение для каждого признака:\")\n",
        "print(np.round(X_num_scal.std(), 2))"
      ]
    },
    {
      "attachments": {},
      "cell_type": "markdown",
      "metadata": {
        "id": "UqX-wX66jZqz"
      },
      "source": [
        "## Задание 5\n",
        "Алгоритмы машинного обучения плохо работают с категориальными признаками, поэтому их надо трансформировать. \n",
        "Прочитай про One-Hot Encoding подход к кодированию и примени его с нашим категориальным признаком, сохрани \n",
        "результат в переменную `X_cat_ohe`\n",
        "Перед этим удали признак `CLNT_JOB_POSITION` (у него слишком много значений).\n",
        "Выведи количество колонок таблицы `X_cat_ohe`"
      ]
    },
    {
      "cell_type": "code",
      "execution_count": 10,
      "metadata": {
        "colab": {
          "base_uri": "https://localhost:8080/"
        },
        "id": "H9eJdJm0jZqz",
        "outputId": "435d5323-712b-4db6-baf0-6516fde955ef"
      },
      "outputs": [
        {
          "name": "stderr",
          "output_type": "stream",
          "text": [
            "C:\\Users\\evpet\\AppData\\Local\\Packages\\PythonSoftwareFoundation.Python.3.10_qbz5n2kfra8p0\\LocalCache\\local-packages\\Python310\\site-packages\\sklearn\\preprocessing\\_encoders.py:868: FutureWarning: `sparse` was renamed to `sparse_output` in version 1.2 and will be removed in 1.4. `sparse_output` is ignored unless you leave `sparse` to its default value.\n",
            "  warnings.warn(\n"
          ]
        },
        {
          "name": "stdout",
          "output_type": "stream",
          "text": [
            "Количество колонок: 323\n"
          ]
        }
      ],
      "source": [
        "# удаление признака CLNT_JOB_POSITION\n",
        "X_cat = X_cat.drop(columns=['CLNT_JOB_POSITION'])\n",
        "# преобразование категориальных признаков One-hot encoding\n",
        "X_cat_encoded = OneHotEncoder(sparse=False, handle_unknown='ignore')\n",
        "X_cat_encoded = OneHotEncoder(sparse=False, handle_unknown='ignore')\n",
        "X_cat_ohe = X_cat_encoded.fit_transform(X_cat) # подсчет количества колонок X_cat таблицы \n",
        "X_cat_ohe.shape[1] # вывод количества колонок X_cat таблицы\n",
        "print('Количество колонок:', X_cat_ohe.shape[1])"
      ]
    },
    {
      "attachments": {},
      "cell_type": "markdown",
      "metadata": {
        "id": "ANitXcqcjZqz"
      },
      "source": [
        "## Задание 6\n",
        "Объедини 2 предобработанных датасета. Результат запиши в переменную `X_ready`. Сохрани датасет в папку `datasets/data_prepared.csv`\n",
        "Подели получившийся датасет на `train` и `test`. Процент тестовой выборки: `20%`. Использовать параметр `random_state=21`.\n",
        "Выведи размерность обучающей выборки X_train.\n"
      ]
    },
    {
      "cell_type": "code",
      "execution_count": 11,
      "metadata": {
        "colab": {
          "base_uri": "https://localhost:8080/",
          "height": 299
        },
        "id": "1Lh1ZgI5jZq0",
        "outputId": "b6a8653f-4c87-4757-c5de-23be0b05d939"
      },
      "outputs": [
        {
          "data": {
            "text/html": [
              "<div>\n",
              "<style scoped>\n",
              "    .dataframe tbody tr th:only-of-type {\n",
              "        vertical-align: middle;\n",
              "    }\n",
              "\n",
              "    .dataframe tbody tr th {\n",
              "        vertical-align: top;\n",
              "    }\n",
              "\n",
              "    .dataframe thead th {\n",
              "        text-align: right;\n",
              "    }\n",
              "</style>\n",
              "<table border=\"1\" class=\"dataframe\">\n",
              "  <thead>\n",
              "    <tr style=\"text-align: right;\">\n",
              "      <th></th>\n",
              "      <th>0</th>\n",
              "      <th>1</th>\n",
              "      <th>2</th>\n",
              "      <th>3</th>\n",
              "      <th>4</th>\n",
              "      <th>5</th>\n",
              "      <th>6</th>\n",
              "      <th>7</th>\n",
              "      <th>8</th>\n",
              "      <th>9</th>\n",
              "      <th>...</th>\n",
              "      <th>360</th>\n",
              "      <th>361</th>\n",
              "      <th>362</th>\n",
              "      <th>363</th>\n",
              "      <th>364</th>\n",
              "      <th>365</th>\n",
              "      <th>366</th>\n",
              "      <th>367</th>\n",
              "      <th>368</th>\n",
              "      <th>369</th>\n",
              "    </tr>\n",
              "  </thead>\n",
              "  <tbody>\n",
              "    <tr>\n",
              "      <th>0</th>\n",
              "      <td>-0.243932</td>\n",
              "      <td>-0.380232</td>\n",
              "      <td>-0.044824</td>\n",
              "      <td>-0.582347</td>\n",
              "      <td>-0.05133</td>\n",
              "      <td>2.356500</td>\n",
              "      <td>-0.169589</td>\n",
              "      <td>0.477531</td>\n",
              "      <td>-0.248485</td>\n",
              "      <td>-1.004598</td>\n",
              "      <td>...</td>\n",
              "      <td>0.0</td>\n",
              "      <td>0.0</td>\n",
              "      <td>0.0</td>\n",
              "      <td>0.0</td>\n",
              "      <td>0.0</td>\n",
              "      <td>0.0</td>\n",
              "      <td>0.0</td>\n",
              "      <td>1.0</td>\n",
              "      <td>0.0</td>\n",
              "      <td>0.0</td>\n",
              "    </tr>\n",
              "    <tr>\n",
              "      <th>1</th>\n",
              "      <td>-0.243932</td>\n",
              "      <td>0.016835</td>\n",
              "      <td>-0.044824</td>\n",
              "      <td>1.221828</td>\n",
              "      <td>-0.05133</td>\n",
              "      <td>-0.312371</td>\n",
              "      <td>-0.169589</td>\n",
              "      <td>-0.330458</td>\n",
              "      <td>-0.248485</td>\n",
              "      <td>1.446347</td>\n",
              "      <td>...</td>\n",
              "      <td>0.0</td>\n",
              "      <td>0.0</td>\n",
              "      <td>0.0</td>\n",
              "      <td>0.0</td>\n",
              "      <td>0.0</td>\n",
              "      <td>0.0</td>\n",
              "      <td>0.0</td>\n",
              "      <td>0.0</td>\n",
              "      <td>0.0</td>\n",
              "      <td>0.0</td>\n",
              "    </tr>\n",
              "    <tr>\n",
              "      <th>2</th>\n",
              "      <td>-0.243932</td>\n",
              "      <td>-0.313313</td>\n",
              "      <td>-0.044824</td>\n",
              "      <td>-0.582347</td>\n",
              "      <td>-0.05133</td>\n",
              "      <td>-0.312371</td>\n",
              "      <td>-0.169589</td>\n",
              "      <td>0.247411</td>\n",
              "      <td>-0.248485</td>\n",
              "      <td>-1.004598</td>\n",
              "      <td>...</td>\n",
              "      <td>0.0</td>\n",
              "      <td>0.0</td>\n",
              "      <td>0.0</td>\n",
              "      <td>0.0</td>\n",
              "      <td>0.0</td>\n",
              "      <td>0.0</td>\n",
              "      <td>0.0</td>\n",
              "      <td>0.0</td>\n",
              "      <td>0.0</td>\n",
              "      <td>0.0</td>\n",
              "    </tr>\n",
              "    <tr>\n",
              "      <th>3</th>\n",
              "      <td>-0.243932</td>\n",
              "      <td>-0.380232</td>\n",
              "      <td>-0.044824</td>\n",
              "      <td>-0.582347</td>\n",
              "      <td>-0.05133</td>\n",
              "      <td>-0.283428</td>\n",
              "      <td>-0.169589</td>\n",
              "      <td>-0.124857</td>\n",
              "      <td>-0.248485</td>\n",
              "      <td>-1.004598</td>\n",
              "      <td>...</td>\n",
              "      <td>0.0</td>\n",
              "      <td>0.0</td>\n",
              "      <td>0.0</td>\n",
              "      <td>0.0</td>\n",
              "      <td>0.0</td>\n",
              "      <td>0.0</td>\n",
              "      <td>0.0</td>\n",
              "      <td>1.0</td>\n",
              "      <td>0.0</td>\n",
              "      <td>0.0</td>\n",
              "    </tr>\n",
              "    <tr>\n",
              "      <th>4</th>\n",
              "      <td>-0.243932</td>\n",
              "      <td>-0.380232</td>\n",
              "      <td>-0.044824</td>\n",
              "      <td>-0.582347</td>\n",
              "      <td>-0.05133</td>\n",
              "      <td>-0.312371</td>\n",
              "      <td>-0.169589</td>\n",
              "      <td>0.029532</td>\n",
              "      <td>-0.248485</td>\n",
              "      <td>-1.004598</td>\n",
              "      <td>...</td>\n",
              "      <td>0.0</td>\n",
              "      <td>0.0</td>\n",
              "      <td>0.0</td>\n",
              "      <td>0.0</td>\n",
              "      <td>0.0</td>\n",
              "      <td>0.0</td>\n",
              "      <td>0.0</td>\n",
              "      <td>0.0</td>\n",
              "      <td>0.0</td>\n",
              "      <td>0.0</td>\n",
              "    </tr>\n",
              "  </tbody>\n",
              "</table>\n",
              "<p>5 rows × 370 columns</p>\n",
              "</div>"
            ],
            "text/plain": [
              "        0         1         2         3        4         5         6    \\\n",
              "0 -0.243932 -0.380232 -0.044824 -0.582347 -0.05133  2.356500 -0.169589   \n",
              "1 -0.243932  0.016835 -0.044824  1.221828 -0.05133 -0.312371 -0.169589   \n",
              "2 -0.243932 -0.313313 -0.044824 -0.582347 -0.05133 -0.312371 -0.169589   \n",
              "3 -0.243932 -0.380232 -0.044824 -0.582347 -0.05133 -0.283428 -0.169589   \n",
              "4 -0.243932 -0.380232 -0.044824 -0.582347 -0.05133 -0.312371 -0.169589   \n",
              "\n",
              "        7         8         9    ...  360  361  362  363  364  365  366  367  \\\n",
              "0  0.477531 -0.248485 -1.004598  ...  0.0  0.0  0.0  0.0  0.0  0.0  0.0  1.0   \n",
              "1 -0.330458 -0.248485  1.446347  ...  0.0  0.0  0.0  0.0  0.0  0.0  0.0  0.0   \n",
              "2  0.247411 -0.248485 -1.004598  ...  0.0  0.0  0.0  0.0  0.0  0.0  0.0  0.0   \n",
              "3 -0.124857 -0.248485 -1.004598  ...  0.0  0.0  0.0  0.0  0.0  0.0  0.0  1.0   \n",
              "4  0.029532 -0.248485 -1.004598  ...  0.0  0.0  0.0  0.0  0.0  0.0  0.0  0.0   \n",
              "\n",
              "   368  369  \n",
              "0  0.0  0.0  \n",
              "1  0.0  0.0  \n",
              "2  0.0  0.0  \n",
              "3  0.0  0.0  \n",
              "4  0.0  0.0  \n",
              "\n",
              "[5 rows x 370 columns]"
            ]
          },
          "execution_count": 11,
          "metadata": {},
          "output_type": "execute_result"
        }
      ],
      "source": [
        "X_num_scal = pd.DataFrame(X_num_scal, columns = X_num.columns)\n",
        "X_ready = np.concatenate([X_num_scal, X_cat_ohe], axis=1) # объединение двух обработанных датасетов\n",
        "X_ready = pd.DataFrame(X_ready) # формирование итогового фрейма данных\n",
        "X_ready.to_csv('../datasets/data_prepared.csv', index=False)\n",
        "X_ready.head(5) # вывод 5 строк"
      ]
    },
    {
      "cell_type": "code",
      "execution_count": 12,
      "metadata": {
        "colab": {
          "base_uri": "https://localhost:8080/"
        },
        "id": "snqjkIGrDGLS",
        "outputId": "f3fdbcc3-e025-4275-a364-e5190b426a66"
      },
      "outputs": [
        {
          "name": "stdout",
          "output_type": "stream",
          "text": [
            "(284152, 370)\n"
          ]
        }
      ],
      "source": [
        "X_train, X_test, Y_train, Y_test = train_test_split(X_ready, Y, test_size=0.2, random_state=21) # разделение данных на train и test с задаными по условиям параметрами\n",
        "print(X_train.shape) # вывод размерность X_train"
      ]
    },
    {
      "attachments": {},
      "cell_type": "markdown",
      "metadata": {
        "id": "ZNTVlucfjZq0"
      },
      "source": [
        "## Задание 7 \n",
        "Обучи логистическую регрессию с параметрами: `solver='liblinear'`, `fit_intercept=False`, `penalty='l1'`, `random_state=21`. \n",
        "Посчитай `accuracy` модели на тестовой выборке, сравнив предсказанные значения с реальными.\n",
        "Выведи значение `accuracy` модели на тестовой выборке."
      ]
    },
    {
      "cell_type": "code",
      "execution_count": 13,
      "metadata": {
        "colab": {
          "base_uri": "https://localhost:8080/"
        },
        "id": "NE_JZsg_jZq0",
        "outputId": "d5cd90b8-9038-49e9-8a27-2fd99d6af26f"
      },
      "outputs": [
        {
          "name": "stdout",
          "output_type": "stream",
          "text": [
            "Accuracy модели на тестовой выборке: 0.9197612545398237\n"
          ]
        }
      ],
      "source": [
        "from sklearn.linear_model import LogisticRegression\n",
        "from sklearn.metrics import accuracy_score\n",
        "\n",
        "# Обучение логистической регрессии\n",
        "logreg = LogisticRegression(solver='liblinear', fit_intercept=False, penalty='l1', random_state=21)\n",
        "logreg.fit(X_train, Y_train)\n",
        "\n",
        "# составление прогнозов на основе тестового набора\n",
        "Y_pred = logreg.predict(X_test)\n",
        "\n",
        "# calculating accuracy of the model\n",
        "accuracy = accuracy_score(Y_test, Y_pred)\n",
        "\n",
        "# Вывод Accuracy на тестовой выборке\n",
        "print(\"Accuracy модели на тестовой выборке:\", accuracy)"
      ]
    },
    {
      "attachments": {},
      "cell_type": "markdown",
      "metadata": {
        "id": "YrrItxvGjZq0"
      },
      "source": [
        "## Задание 8\n",
        "Посчитай процент клиентов в тестовой выборке, у которых индикатор оттока равен `0`, и сравни с `accuracy`.\n",
        "Тебе что-то должно показаться подозрительным)"
      ]
    },
    {
      "cell_type": "code",
      "execution_count": 14,
      "metadata": {
        "colab": {
          "base_uri": "https://localhost:8080/"
        },
        "id": "17fmS9h6jZq1",
        "outputId": "68c39041-a358-4e3c-e847-ba48eb8b9395"
      },
      "outputs": [
        {
          "name": "stdout",
          "output_type": "stream",
          "text": [
            "91.96064078380584\n"
          ]
        }
      ],
      "source": [
        "# Считаем процент лояльных клиентов\n",
        "percent_no_churn = (Y_test.value_counts()[0]/len(Y_test))*100\n",
        "print(percent_no_churn)"
      ]
    },
    {
      "attachments": {},
      "cell_type": "markdown",
      "metadata": {
        "id": "ZcwAW9QIjZq1"
      },
      "source": [
        "## Задание 9\n",
        "Построй график, на котором видны топ-10 самых важных факторов по мнению модели в абсолютном значении."
      ]
    },
    {
      "cell_type": "code",
      "execution_count": 15,
      "metadata": {
        "colab": {
          "base_uri": "https://localhost:8080/",
          "height": 469
        },
        "id": "BcdOIYvn_rQo",
        "outputId": "ce14fbaa-045d-4496-bd23-9ff2779083be"
      },
      "outputs": [
        {
          "ename": "NameError",
          "evalue": "name 'top_features_df' is not defined",
          "output_type": "error",
          "traceback": [
            "\u001b[1;31m---------------------------------------------------------------------------\u001b[0m",
            "\u001b[1;31mNameError\u001b[0m                                 Traceback (most recent call last)",
            "Cell \u001b[1;32mIn[15], line 2\u001b[0m\n\u001b[0;32m      1\u001b[0m \u001b[39m# получение списка названий факторов\u001b[39;00m\n\u001b[1;32m----> 2\u001b[0m feature_names \u001b[39m=\u001b[39m [d\u001b[39m.\u001b[39mindex[i] \u001b[39mfor\u001b[39;00m i \u001b[39min\u001b[39;00m top_features_df\u001b[39m.\u001b[39mindex]\n\u001b[0;32m      4\u001b[0m \u001b[39m# обновление названий факторов в сводной таблице\u001b[39;00m\n\u001b[0;32m      5\u001b[0m top_features_df[\u001b[39m'\u001b[39m\u001b[39mfeature\u001b[39m\u001b[39m'\u001b[39m] \u001b[39m=\u001b[39m feature_names\n",
            "\u001b[1;31mNameError\u001b[0m: name 'top_features_df' is not defined"
          ]
        }
      ],
      "source": [
        "# получение списка названий факторов\n",
        "feature_names = [d.index[i] for i in top_features_df.index]\n",
        "\n",
        "# обновление названий факторов в сводной таблице\n",
        "top_features_df['feature'] = feature_names\n",
        "\n",
        "# построение графика с обновленными названиями факторов\n",
        "ax = top_features_df.plot(x='feature', y='importance', kind='barh', color='teal')\n",
        "\n",
        "# добавление подписей к графику\n",
        "for i, v in enumerate(top_features_df['importance']):\n",
        "    ax.text(v + 0.01, i - 0.15, str(round(v, 2)), color='black')\n",
        "    ax.text(-0.5, i - 0.15, top_features_df['feature'].iloc[i], color='black', fontweight='bold')\n",
        "\n",
        "# установка заголовка графика\n",
        "ax.set_title(\"топ-10 самых важных факторов\")"
      ]
    }
  ],
  "metadata": {
    "colab": {
      "provenance": []
    },
    "kernelspec": {
      "display_name": "Python 3 (ipykernel)",
      "language": "python",
      "name": "python3"
    },
    "language_info": {
      "codemirror_mode": {
        "name": "ipython",
        "version": 3
      },
      "file_extension": ".py",
      "mimetype": "text/x-python",
      "name": "python",
      "nbconvert_exporter": "python",
      "pygments_lexer": "ipython3",
      "version": "3.10.11"
    }
  },
  "nbformat": 4,
  "nbformat_minor": 0
}
